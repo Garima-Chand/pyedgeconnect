{
 "cells": [
  {
   "cell_type": "markdown",
   "id": "648e5fd158f5a772",
   "metadata": {},
   "source": [
    "\n",
    "Generate Preconfig Step by Step Explanation\n"
   ]
  },
  {
   "cell_type": "markdown",
   "id": "fe9b997f1fd1aa86",
   "metadata": {},
   "source": [
    "First, import the necessary Python libraries"
   ]
  },
  {
   "cell_type": "code",
   "execution_count": 1,
   "id": "42bb669b-02e4-49c6-b760-c9b1da3ca40d",
   "metadata": {
    "ExecuteTime": {
     "end_time": "2024-11-13T17:42:19.234447Z",
     "start_time": "2024-11-13T17:42:18.512928Z"
    }
   },
   "outputs": [],
   "source": [
    "import csv\n",
    "import datetime\n",
    "import os\n",
    "from jinja2 import Environment, FileSystemLoader\n",
    "from pyedgeconnect import Orchestrator"
   ]
  },
  {
   "cell_type": "markdown",
   "id": "d694bcdd-98d3-4723-a9fa-f9f3d40cf66d",
   "metadata": {},
   "source": [
    "Assign variables"
   ]
  },
  {
   "cell_type": "code",
   "execution_count": 2,
   "id": "874682b1-b947-417e-bc6e-6a801cbf731b",
   "metadata": {},
   "outputs": [],
   "source": [
    "orch_url = '192.168.102.12'\n",
    "orch_api_key = '39c7ef4fc156481fb8866a5305b815164bf841c501dd401886a6ada0b2a9280a131a1757acd947a99b61cf83c7b209a3fda964ee33334ece82fd2e0aebf7107f'\n",
    "csv_filename = 'preconfig.csv'\n",
    "\n",
    "upload_to_orch = True"
   ]
  },
  {
   "cell_type": "markdown",
   "id": "3c5e7e40-75fd-47a3-a19f-56f0a3a7b61d",
   "metadata": {},
   "source": [
    "Instantiate Orchestrator object"
   ]
  },
  {
   "cell_type": "code",
   "execution_count": 3,
   "id": "613372e0-d451-4fc9-aeec-a75e52e56c68",
   "metadata": {},
   "outputs": [],
   "source": [
    "orch = Orchestrator(orch_url, api_key=orch_api_key, verify_ssl=False)"
   ]
  },
  {
   "cell_type": "markdown",
   "id": "3ae618a7-4f2c-4277-a65b-dd656204ff7d",
   "metadata": {},
   "source": [
    "Print orchestrator version as a test to ensure data can be accessed from the Orchestrator object"
   ]
  },
  {
   "cell_type": "code",
   "execution_count": 4,
   "id": "df17edce-0543-426d-8ab7-6480b3b58109",
   "metadata": {},
   "outputs": [
    {
     "name": "stdout",
     "output_type": "stream",
     "text": [
      "Orchestrator version:  9.5\n"
     ]
    }
   ],
   "source": [
    "print(f\"Orchestrator version:  {orch.orch_version}\")\n"
   ]
  },
  {
   "cell_type": "markdown",
   "id": "948a42ac-ea34-47d8-8f21-4a6f07f9d06d",
   "metadata": {},
   "source": [
    "Retrieve Jinja2 template for generating EdgeConnect Preconfig YAML\n",
    "Setting ``trim_blocks`` and ``lstrip_blocks`` reduces excessive\n",
    "whitepsace from the jinja template conditionals etc."
   ]
  },
  {
   "cell_type": "code",
   "execution_count": 7,
   "id": "c70eb2e2-7656-48a7-bd3c-6b6977d26ee9",
   "metadata": {},
   "outputs": [],
   "source": [
    "ec_template_file = 'ec_preconfig_template.jinja2'\n",
    "\n",
    "env = Environment(\n",
    "    loader=FileSystemLoader(\"../templates\"), #relative path from this Jupyter Notebook folder\n",
    "    trim_blocks=True,\n",
    "    lstrip_blocks=True,\n",
    ")\n",
    "ec_template = env.get_template(ec_template_file)"
   ]
  },
  {
   "cell_type": "code",
   "execution_count": null,
   "id": "52800a54-940a-4e31-94ff-e84686b3a850",
   "metadata": {},
   "outputs": [],
   "source": [
    "output_directory = \"preconfig_outputs/\"\n",
    "if not os.path.exists(output_directory):\n",
    "    os.makedirs(output_directory)"
   ]
  }
 ],
 "metadata": {
  "kernelspec": {
   "display_name": "Python 3 (ipykernel)",
   "language": "python",
   "name": "python3"
  },
  "language_info": {
   "codemirror_mode": {
    "name": "ipython",
    "version": 3
   },
   "file_extension": ".py",
   "mimetype": "text/x-python",
   "name": "python",
   "nbconvert_exporter": "python",
   "pygments_lexer": "ipython3",
   "version": "3.12.2"
  }
 },
 "nbformat": 4,
 "nbformat_minor": 5
}
