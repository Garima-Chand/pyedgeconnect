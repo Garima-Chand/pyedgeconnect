{
 "cells": [
  {
   "cell_type": "markdown",
   "id": "648e5fd158f5a772",
   "metadata": {},
   "source": [
    "\n",
    "Generate Preconfig Step by Step Explanation\n"
   ]
  },
  {
   "cell_type": "markdown",
   "id": "fe9b997f1fd1aa86",
   "metadata": {},
   "source": [
    "First, import the necessary Python libraries"
   ]
  },
  {
   "cell_type": "code",
   "execution_count": 1,
   "id": "42bb669b-02e4-49c6-b760-c9b1da3ca40d",
   "metadata": {
    "ExecuteTime": {
     "end_time": "2024-11-13T17:42:19.234447Z",
     "start_time": "2024-11-13T17:42:18.512928Z"
    }
   },
   "outputs": [],
   "source": [
    "import csv\n",
    "import datetime\n",
    "import os\n",
    "from jinja2 import Environment, FileSystemLoader\n",
    "from pyedgeconnect import Orchestrator"
   ]
  },
  {
   "cell_type": "markdown",
   "id": "d694bcdd-98d3-4723-a9fa-f9f3d40cf66d",
   "metadata": {},
   "source": [
    "Assign variables"
   ]
  },
  {
   "cell_type": "code",
   "execution_count": 2,
   "id": "f0df56f1-c99c-4363-9c7b-fe6980f789f3",
   "metadata": {},
   "outputs": [
    {
     "name": "stdin",
     "output_type": "stream",
     "text": [
      "Please enter FQDN or IP of Orchestrator:  192.168.102.12\n"
     ]
    },
    {
     "name": "stdout",
     "output_type": "stream",
     "text": [
      "192.168.102.12\n"
     ]
    }
   ],
   "source": [
    "orch_url = input(\"Please enter FQDN or IP of Orchestrator: \")\n",
    "print(orch_url)"
   ]
  },
  {
   "cell_type": "code",
   "execution_count": 10,
   "id": "08ac520a-8603-4ba3-ac4b-a71eb0f4e234",
   "metadata": {},
   "outputs": [
    {
     "name": "stdin",
     "output_type": "stream",
     "text": [
      "Please enter Orchestrator API key:  39c7ef4fc156481fb8866a5305b815164bf841c501dd401886a6ada0b2a9280a131a1757acd947a99b61cf83c7b209a3fda964ee33334ece82fd2e0aebf7107f\n"
     ]
    }
   ],
   "source": [
    "orch_api_key = input(\"Please enter Orchestrator API key: \")"
   ]
  },
  {
   "cell_type": "code",
   "execution_count": 11,
   "id": "874682b1-b947-417e-bc6e-6a801cbf731b",
   "metadata": {},
   "outputs": [],
   "source": [
    "#orch_url = '192.168.102.12'\n",
    "#orch_api_key = '39c7ef4fc156481fb8866a5305b815164bf841c501dd401886a6ada0b2a9280a131a1757acd947a99b61cf83c7b209a3fda964ee33334ece82fd2e0aebf7107f'"
   ]
  },
  {
   "cell_type": "markdown",
   "id": "3c5e7e40-75fd-47a3-a19f-56f0a3a7b61d",
   "metadata": {},
   "source": [
    "Instantiate Orchestrator object"
   ]
  },
  {
   "cell_type": "code",
   "execution_count": 12,
   "id": "613372e0-d451-4fc9-aeec-a75e52e56c68",
   "metadata": {},
   "outputs": [],
   "source": [
    "orch = Orchestrator(orch_url, api_key=orch_api_key, verify_ssl=False)"
   ]
  },
  {
   "cell_type": "markdown",
   "id": "3ae618a7-4f2c-4277-a65b-dd656204ff7d",
   "metadata": {},
   "source": [
    "Print orchestrator version as a test to ensure data can be accessed from the Orchestrator object"
   ]
  },
  {
   "cell_type": "code",
   "execution_count": 13,
   "id": "df17edce-0543-426d-8ab7-6480b3b58109",
   "metadata": {},
   "outputs": [
    {
     "name": "stdout",
     "output_type": "stream",
     "text": [
      "Orchestrator version:  9.5\n"
     ]
    }
   ],
   "source": [
    "print(f\"Orchestrator version:  {orch.orch_version}\")\n"
   ]
  },
  {
   "cell_type": "markdown",
   "id": "948a42ac-ea34-47d8-8f21-4a6f07f9d06d",
   "metadata": {},
   "source": [
    "Retrieve Jinja2 template for generating EdgeConnect Preconfig YAML\n",
    "Setting ``trim_blocks`` and ``lstrip_blocks`` reduces excessive\n",
    "whitepsace from the jinja template conditionals etc."
   ]
  },
  {
   "cell_type": "code",
   "execution_count": 14,
   "id": "c70eb2e2-7656-48a7-bd3c-6b6977d26ee9",
   "metadata": {},
   "outputs": [],
   "source": [
    "ec_template_file = 'ec_preconfig_template.jinja2'\n",
    "\n",
    "env = Environment(\n",
    "    loader=FileSystemLoader(\"templates\"),\n",
    "    trim_blocks=True,\n",
    "    lstrip_blocks=True,\n",
    ")\n",
    "ec_template = env.get_template(ec_template_file)"
   ]
  },
  {
   "cell_type": "markdown",
   "id": "bcf79115-a743-4cef-9bea-1b0708aaa4ca",
   "metadata": {},
   "source": [
    "Set output directory for generated preconfig YAML files"
   ]
  },
  {
   "cell_type": "code",
   "execution_count": 15,
   "id": "52800a54-940a-4e31-94ff-e84686b3a850",
   "metadata": {},
   "outputs": [],
   "source": [
    "# Local directory for configuration outputs\n",
    "output_directory = \"preconfig_outputs/\"\n",
    "if not os.path.exists(output_directory):\n",
    "    os.makedirs(output_directory)"
   ]
  },
  {
   "cell_type": "markdown",
   "id": "5b6504cb-8829-4563-9455-5a1b7465f119",
   "metadata": {},
   "source": [
    "Open CSV file with configuration data and iterate over each row and generate a preconfig per device (row) using the data in the preconfig.csv file with the Jinja template in the templates directory. Each device's preconfig YAML file is validated with the Orchestrator for validity. Regardless of validity, the code below will copy the output of the YAML file to the preconfig_outputs directory for review (if the validation fails, the filename will be suffixed with \"_preconfig-FAILED.yml\". If the upload_to_orch boolean is set to True, the validated preconfig file will be sent to the orchestrator in the 'Preconfigure Appliances' tab. Preconfig YAML files that fail validation will not be sent to the Orchestrator."
   ]
  },
  {
   "cell_type": "code",
   "execution_count": 18,
   "id": "2ad7ac9c-9db3-45f7-a8e3-da5af27936cd",
   "metadata": {},
   "outputs": [
    {
     "name": "stderr",
     "output_type": "stream",
     "text": [
      "[POST] /gms/appliance/preconfiguration/validate | Received HTTP 400 | Response text: Appliance region invalid: US. Valid regions are: [NewMexico, Texas]\n"
     ]
    },
    {
     "name": "stdout",
     "output_type": "stream",
     "text": [
      "Posted EC Preconfig EDGECONNECT1\n",
      "Posted EC Preconfig EDGECONNECT2\n",
      "Posted EC Preconfig EDGECONNECT3\n",
      "Preconfig for WacoEC1 failed validation | error: Appliance region invalid: US. Valid regions are: [NewMexico, Texas]\n"
     ]
    }
   ],
   "source": [
    "# Open CSV file with configuration data and iterate over each row and generate a preconfig per device (row)\n",
    "upload_to_orch = True\n",
    "csv_filename = 'preconfig.csv'\n",
    "with open(csv_filename, encoding=\"utf-8-sig\") as csvfile:\n",
    "    csv_dict = csv.DictReader(csvfile)\n",
    "    # Set initial row number for row identification of data\n",
    "    # First row is headers\n",
    "    row_number = 2\n",
    "    # Generate Edge Connect YAML preconfig for each row in data\n",
    "    for row in csv_dict:\n",
    "        # Render CSV values through the Jinja template\n",
    "        yaml_preconfig = ec_template.render(data=row)\n",
    "        # Set value for serial number if provided\n",
    "        appliance_serial = row.get(\"appliance_serial\")\n",
    "        if appliance_serial is None:\n",
    "            appliance_serial = \"\"\n",
    "        else:\n",
    "            pass\n",
    "        # Validate preconfig via Orchestrator\n",
    "        validate = orch.validate_preconfig(\n",
    "            preconfig_name=row[\"hostname\"],\n",
    "            yaml_preconfig=yaml_preconfig,\n",
    "            auto_apply=True,\n",
    "        )\n",
    "        # Write local YAML file to see resulting YAML file locally\n",
    "        # whether or not validation passes or fails\n",
    "        yaml_filename = f'{row[\"hostname\"]}_preconfig.yml'\n",
    "        with open(output_directory + yaml_filename, \"w\") as preconfig_file:\n",
    "            write_data = preconfig_file.write(yaml_preconfig)\n",
    "\n",
    "        # If the validate function passes on Orchestrator, move on\n",
    "        # to check if uploading to Orchestrator option selected\n",
    "        if validate.status_code == 200:\n",
    "            # If upload option was chosen, upload preconfig to\n",
    "            # Orchestrator with selected auto-apply settings\n",
    "            if upload_to_orch is True:\n",
    "                # In this example the appliance hostname from the CSV\n",
    "                # data (row[\"hostname\"]) is used both for the name of\n",
    "                # the preconfig to appear in Orchestrator, as well as\n",
    "                # the tag on the preconfig that could be used to match\n",
    "                # against a discovered appliance\n",
    "                # Additionally a comment is added with the current\n",
    "                # date\n",
    "                comment_timestamp = datetime.date.today().strftime(\"%d %B %Y\")\n",
    "                orch.create_preconfig(\n",
    "                    preconfig_name=row[\"hostname\"],\n",
    "                    yaml_preconfig=yaml_preconfig,\n",
    "                    auto_apply=True,\n",
    "                    tag=row[\"hostname\"],\n",
    "                    serial_number=appliance_serial,\n",
    "                    comment=f\"Created/Uploaded @ {comment_timestamp}\",\n",
    "                )\n",
    "                print(f'Posted EC Preconfig {row[\"hostname\"]}')\n",
    "            else:\n",
    "                pass\n",
    "        else:\n",
    "            print(\n",
    "                f'Preconfig for {row[\"hostname\"]}'\n",
    "                f\" failed validation | error: {validate.text}\"\n",
    "            )\n",
    "            # Write local YAML file of failed config for reference\n",
    "            yaml_filename = f'{row[\"hostname\"]}_preconfig-FAILED.yml'\n",
    "            with open(output_directory + yaml_filename, \"w\") as preconfig_file:\n",
    "                write_data = preconfig_file.write(yaml_preconfig)\n",
    "\n",
    "        # Increment row number when iterating to next row in CSV\n",
    "        row_number += 1"
   ]
  },
  {
   "cell_type": "code",
   "execution_count": null,
   "id": "98d976e3-a76d-4ceb-a04e-050f114849da",
   "metadata": {},
   "outputs": [],
   "source": []
  }
 ],
 "metadata": {
  "kernelspec": {
   "display_name": "Python 3 (ipykernel)",
   "language": "python",
   "name": "python3"
  },
  "language_info": {
   "codemirror_mode": {
    "name": "ipython",
    "version": 3
   },
   "file_extension": ".py",
   "mimetype": "text/x-python",
   "name": "python",
   "nbconvert_exporter": "python",
   "pygments_lexer": "ipython3",
   "version": "3.12.2"
  }
 },
 "nbformat": 4,
 "nbformat_minor": 5
}
