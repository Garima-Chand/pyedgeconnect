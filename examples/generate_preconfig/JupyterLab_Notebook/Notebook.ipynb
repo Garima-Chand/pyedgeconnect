{
 "cells": [
  {
   "cell_type": "code",
   "execution_count": 1,
   "id": "initial_id",
   "metadata": {
    "ExecuteTime": {
     "end_time": "2024-11-13T17:42:19.234447Z",
     "start_time": "2024-11-13T17:42:18.512928Z"
    }
   },
   "outputs": [
    {
     "name": "stdout",
     "output_type": "stream",
     "text": [
      "hello world\n"
     ]
    }
   ],
   "source": [
    "from pyedgeconnect import Orchestrator\n",
    "print(\"hello world\")\n"
   ]
  },
  {
   "cell_type": "markdown",
   "id": "648e5fd158f5a772",
   "metadata": {},
   "source": [
    "Test\n"
   ]
  }
 ],
 "metadata": {
  "kernelspec": {
   "display_name": "Python 3 (ipykernel)",
   "language": "python",
   "name": "python3"
  },
  "language_info": {
   "codemirror_mode": {
    "name": "ipython",
    "version": 3
   },
   "file_extension": ".py",
   "mimetype": "text/x-python",
   "name": "python",
   "nbconvert_exporter": "python",
   "pygments_lexer": "ipython3",
   "version": "3.12.2"
  }
 },
 "nbformat": 4,
 "nbformat_minor": 5
}
